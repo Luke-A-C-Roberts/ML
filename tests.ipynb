{
 "cells": [
  {
   "cell_type": "code",
   "execution_count": 1,
   "metadata": {},
   "outputs": [
    {
     "name": "stdout",
     "output_type": "stream",
     "text": [
      "('⁰',)\n",
      "('¹',)\n",
      "('²',)\n",
      "('³',)\n",
      "('⁴',)\n",
      "('⁵',)\n",
      "('⁶',)\n",
      "('⁷',)\n",
      "('⁸',)\n",
      "⁹\n"
     ]
    },
    {
     "ename": "TypeError",
     "evalue": "sequence item 0: expected str instance, tuple found",
     "output_type": "error",
     "traceback": [
      "\u001b[0;31m---------------------------------------------------------------------------\u001b[0m",
      "\u001b[0;31mTypeError\u001b[0m                                 Traceback (most recent call last)",
      "\u001b[1;32m/home/luke/Documents/Work/ML/tests.ipynb Cell 1\u001b[0m line \u001b[0;36m1\n\u001b[1;32m     <a href='vscode-notebook-cell:/home/luke/Documents/Work/ML/tests.ipynb#W0sZmlsZQ%3D%3D?line=13'>14</a>\u001b[0m         \u001b[39mcase\u001b[39;00m\u001b[39m \u001b[39m\u001b[39m_\u001b[39;00m: \u001b[39mreturn\u001b[39;00m \u001b[39m'\u001b[39m\u001b[39m'\u001b[39m\u001b[39m.\u001b[39mjoin([superscript_number(\u001b[39mint\u001b[39m(c)) \u001b[39mfor\u001b[39;00m c \u001b[39min\u001b[39;00m \u001b[39mlist\u001b[39m(\u001b[39mstr\u001b[39m(i))])\n\u001b[1;32m     <a href='vscode-notebook-cell:/home/luke/Documents/Work/ML/tests.ipynb#W0sZmlsZQ%3D%3D?line=15'>16</a>\u001b[0m \u001b[39mfor\u001b[39;00m i \u001b[39min\u001b[39;00m \u001b[39mrange\u001b[39m(\u001b[39m100\u001b[39m):\n\u001b[0;32m---> <a href='vscode-notebook-cell:/home/luke/Documents/Work/ML/tests.ipynb#W0sZmlsZQ%3D%3D?line=16'>17</a>\u001b[0m     \u001b[39mprint\u001b[39m(superscript_number(i))\n",
      "\u001b[1;32m/home/luke/Documents/Work/ML/tests.ipynb Cell 1\u001b[0m line \u001b[0;36m1\n\u001b[1;32m     <a href='vscode-notebook-cell:/home/luke/Documents/Work/ML/tests.ipynb#W0sZmlsZQ%3D%3D?line=11'>12</a>\u001b[0m \u001b[39mcase\u001b[39;00m \u001b[39m8\u001b[39m: \u001b[39mreturn\u001b[39;00m \u001b[39m\"\u001b[39m\u001b[39m⁸\u001b[39m\u001b[39m\"\u001b[39m,\n\u001b[1;32m     <a href='vscode-notebook-cell:/home/luke/Documents/Work/ML/tests.ipynb#W0sZmlsZQ%3D%3D?line=12'>13</a>\u001b[0m \u001b[39mcase\u001b[39;00m \u001b[39m9\u001b[39m: \u001b[39mreturn\u001b[39;00m \u001b[39m\"\u001b[39m\u001b[39m⁹\u001b[39m\u001b[39m\"\u001b[39m\n\u001b[0;32m---> <a href='vscode-notebook-cell:/home/luke/Documents/Work/ML/tests.ipynb#W0sZmlsZQ%3D%3D?line=13'>14</a>\u001b[0m \u001b[39mcase\u001b[39;00m\u001b[39m \u001b[39m\u001b[39m_\u001b[39;00m: \u001b[39mreturn\u001b[39;00m \u001b[39m'\u001b[39m\u001b[39m'\u001b[39m\u001b[39m.\u001b[39mjoin([superscript_number(\u001b[39mint\u001b[39m(c)) \u001b[39mfor\u001b[39;00m c \u001b[39min\u001b[39;00m \u001b[39mlist\u001b[39m(\u001b[39mstr\u001b[39m(i))])\n",
      "\u001b[0;31mTypeError\u001b[0m: sequence item 0: expected str instance, tuple found"
     ]
    }
   ],
   "source": [
    "import \n",
    "\n",
    "def superscript_number(i: int) -> str:\n",
    "    assert i >= 0\n",
    "    match i:\n",
    "        case 0: return \"⁰\",\n",
    "        case 1: return \"¹\",\n",
    "        case 2: return \"²\",\n",
    "        case 3: return \"³\",\n",
    "        case 4: return \"⁴\",\n",
    "        case 5: return \"⁵\",\n",
    "        case 6: return \"⁶\",\n",
    "        case 7: return \"⁷\",\n",
    "        case 8: return \"⁸\",\n",
    "        case 9: return \"⁹\"\n",
    "        case _: return ''.join([superscript_number(int(c)) for c in list(str(i))])\n",
    "\n",
    "for i in range(100):\n",
    "    "
   ]
  }
 ],
 "metadata": {
  "kernelspec": {
   "display_name": "Python 3",
   "language": "python",
   "name": "python3"
  },
  "language_info": {
   "codemirror_mode": {
    "name": "ipython",
    "version": 3
   },
   "file_extension": ".py",
   "mimetype": "text/x-python",
   "name": "python",
   "nbconvert_exporter": "python",
   "pygments_lexer": "ipython3",
   "version": "3.11.4"
  },
  "orig_nbformat": 4
 },
 "nbformat": 4,
 "nbformat_minor": 2
}
